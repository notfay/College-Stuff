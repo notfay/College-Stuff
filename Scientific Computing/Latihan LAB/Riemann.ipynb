{
 "cells": [
  {
   "cell_type": "code",
   "execution_count": 21,
   "metadata": {},
   "outputs": [
    {
     "name": "stdout",
     "output_type": "stream",
     "text": [
      "Left R = 16.40625\n",
      "Right R : 32.15625\n",
      "23.859375\n",
      "24.28125\n"
     ]
    }
   ],
   "source": [
    "import numpy as np\n",
    "\n",
    "def f(x) :\n",
    "      return x**2 - 5\n",
    "  \n",
    "  #Batas bawah, atas, total block\n",
    "a = 2\n",
    "b = 5\n",
    "n = 5\n",
    "  \n",
    "lk = (b - a) / (n -1)\n",
    "  \n",
    "xDot = np.linspace(a,b,n)\n",
    "yDot = f(xDot)\n",
    "  \n",
    "lr = lk * sum(yDot[:n-1])\n",
    "print(f\"Left R = {lr}\")\n",
    "\n",
    "rr = lk * sum(yDot[1:])\n",
    "print(f\"Right R : {rr}\")\n",
    "\n",
    "xMid = (xDot[:n-1] + xDot[1:]) /2 \n",
    "yMid = f(xMid)\n",
    "\n",
    "mp = lk * sum(yMid)\n",
    "print(mp)\n",
    "\n",
    "tp = lk / 2 * (yDot[0] + 2 * sum(yDot[1:n-1]) + yDot[n-1])\n",
    "print(tp)"
   ]
  },
  {
   "cell_type": "code",
   "execution_count": 46,
   "metadata": {},
   "outputs": [
    {
     "name": "stdout",
     "output_type": "stream",
     "text": [
      "16.40625\n",
      "32.15625\n",
      "23.859375\n",
      "24.28125\n"
     ]
    }
   ],
   "source": [
    "import numpy as np\n",
    "\n",
    "def f(x) :\n",
    "    return x**2 - 5\n",
    "\n",
    "a = 2\n",
    "b = 5\n",
    "n = 5\n",
    " \n",
    "xDot = np.linspace(a,b,n)\n",
    "yDot = f(xDot)\n",
    " \n",
    "lk = (b-a) / (n-1)\n",
    " \n",
    "lr = lk * sum(yDot[:n-1])\n",
    "print(lr)\n",
    "\n",
    "rr = lk * sum(yDot[1:])\n",
    "print(rr)\n",
    "\n",
    "xMid = (xDot[:n-1] + xDot[1:]) / 2\n",
    "ymid = f(xMid)\n",
    "\n",
    "mp = lk * sum(ymid)\n",
    "print(mp)\n",
    "\n",
    "tp = lk / 2 * (yDot[0] + 2 * sum(yDot[1:n-1]) + yDot[n-1])\n",
    "print(tp)"
   ]
  },
  {
   "cell_type": "code",
   "execution_count": null,
   "metadata": {},
   "outputs": [],
   "source": [
    "import numpy as np\n",
    "\n",
    "def f(x) :\n",
    "    return x**2 - 5"
   ]
  }
 ],
 "metadata": {
  "kernelspec": {
   "display_name": "Python 3",
   "language": "python",
   "name": "python3"
  },
  "language_info": {
   "codemirror_mode": {
    "name": "ipython",
    "version": 3
   },
   "file_extension": ".py",
   "mimetype": "text/x-python",
   "name": "python",
   "nbconvert_exporter": "python",
   "pygments_lexer": "ipython3",
   "version": "3.12.3"
  }
 },
 "nbformat": 4,
 "nbformat_minor": 2
}
