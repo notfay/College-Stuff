{
 "cells": [
  {
   "cell_type": "code",
   "execution_count": 46,
   "metadata": {},
   "outputs": [],
   "source": [
    "import numpy as np\n",
    "\n",
    "def diagDom(x):\n",
    "    \n",
    "    x = np.array(x)\n",
    "    diag = np.diag(x)\n",
    "\n",
    "    oD = np.sum(np.abs(x), axis=1) - diag\n",
    "\n",
    "    if np.all(diag > oD):\n",
    "        return True\n",
    "    else :\n",
    "        return False"
   ]
  },
  {
   "cell_type": "code",
   "execution_count": 47,
   "metadata": {},
   "outputs": [],
   "source": [
    "def gauss_seidel(x, y, epsilon = 0.01, t = 15):\n",
    "    if not diagDom(x):\n",
    "        print('is not diagonally dominant')\n",
    "        return\n",
    "    \n",
    "    x = np.array(x)\n",
    "    y = np.array(y)\n",
    "    diag = np.diag(np.abs(x))\n",
    "\n",
    "    \n",
    "    x = -x\n",
    "    np.fill_diagonal(x, 0)\n",
    "\n",
    "    mtx_old = np.zeros(x[0].shape)\n",
    "\n",
    "   \n",
    "    for i in range(t):\n",
    "        mtx_new = np.array(mtx_old)\n",
    "        for idx, row in enumerate(x):\n",
    "            mtx_new[idx] = (y[idx] + np.dot(row, mtx_new)) / diag[idx]\n",
    "\n",
    "        print(f'iterasi ke - {i}')\n",
    "        print(mtx_new)\n",
    "\n",
    "        dx = np.sqrt(np.dot(mtx_new - mtx_old, mtx_new - mtx_old))\n",
    "        print(f'dx : -{dx}')\n",
    "\n",
    "        if dx < epsilon:\n",
    "            print('converged')\n",
    "            return\n",
    "        \n",
    "        mtx_old = mtx_new\n",
    "\n",
    "    print('not converged')\n",
    "    return"
   ]
  },
  {
   "cell_type": "code",
   "execution_count": 48,
   "metadata": {},
   "outputs": [
    {
     "name": "stdout",
     "output_type": "stream",
     "text": [
      "iterasi ke - 0\n",
      "[0.8  0.7  1.15]\n",
      "dx : -1.5660459763365826\n",
      "iterasi ke - 1\n",
      "[-0.055       0.65083333  1.58569444]\n",
      "dx : -0.9608704439365717\n",
      "iterasi ke - 2\n",
      "[-0.25318056  0.61124769  1.69138233]\n",
      "dx : -0.22806245930668492\n",
      "iterasi ke - 3\n",
      "[-0.29019024  0.59980132  1.7117949 ]\n",
      "dx : -0.04378822902864041\n",
      "iterasi ke - 4\n",
      "[-0.29581798  0.59733718  1.71501946]\n",
      "dx : -0.006938385517329205\n",
      "converged\n"
     ]
    }
   ],
   "source": [
    "matrix_x = [[10, 4, 5],\n",
    "            [1, 6, 1],\n",
    "            [3, 1, 6]]\n",
    "matrix_y = [8, 5 ,10]\n",
    "\n",
    "gauss_seidel(matrix_x, matrix_y)"
   ]
  }
 ],
 "metadata": {
  "kernelspec": {
   "display_name": "Python 3",
   "language": "python",
   "name": "python3"
  },
  "language_info": {
   "codemirror_mode": {
    "name": "ipython",
    "version": 3
   },
   "file_extension": ".py",
   "mimetype": "text/x-python",
   "name": "python",
   "nbconvert_exporter": "python",
   "pygments_lexer": "ipython3",
   "version": "3.12.3"
  }
 },
 "nbformat": 4,
 "nbformat_minor": 2
}
