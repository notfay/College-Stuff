{
 "cells": [
  {
   "cell_type": "code",
   "execution_count": 6,
   "metadata": {},
   "outputs": [
    {
     "name": "stdout",
     "output_type": "stream",
     "text": [
      "16.40625 32.15625 23.859375 24.28125\n"
     ]
    }
   ],
   "source": [
    "#Riemann\n",
    "import numpy as np \n",
    "\n",
    "def f(x) :\n",
    "     return x**2 - 5\n",
    " \n",
    "a = 2\n",
    "b = 5\n",
    "n = 5\n",
    "\n",
    "lk = (b-a) / (n-1)\n",
    "xDot = np.linspace(a,b,n)\n",
    "yDot = f(xDot)\n",
    "\n",
    "lr = lk * sum(yDot[:n-1])\n",
    "rr = lk * sum(yDot[1:])\n",
    "\n",
    "xMid = (xDot[:n-1] + xDot[1:]) / 2\n",
    "yMid = f(xMid)\n",
    "\n",
    "mp = lk * sum(yMid)\n",
    "tp = lk / 2 * (yDot[0] + 2 * sum(yDot[1:n-1]) + yDot[n-1])\n",
    "\n",
    "print(lr, rr, mp, tp)\n",
    "\n",
    "\n"
   ]
  },
  {
   "cell_type": "code",
   "execution_count": 8,
   "metadata": {},
   "outputs": [
    {
     "name": "stdout",
     "output_type": "stream",
     "text": [
      "Iteration 1, 2.996389891696751\n",
      "Iteration 2, 2.2565182083408373\n",
      "Iteration 3, 1.7260001002120005\n",
      "Iteration 4, 1.3783934888689324\n",
      "Iteration 5, 1.2059214700593088\n",
      "Iteration 6, 1.16455764615857\n",
      "Root : 1.1624432717777862\n"
     ]
    }
   ],
   "source": [
    "#Newton R\n",
    "import numpy as np\n",
    "\n",
    "def f(x) :\n",
    "    return 3*x**4 + 2*x**3 - 5*x**2 + 7*x - 10\n",
    "def g(x) :\n",
    "    return 12*x**3 + 6*x**2 - 10*x + 7\n",
    "\n",
    "def newton(x0, tolerance = 0.3, i = 1) :\n",
    "    if i >= 50 : \n",
    "        print(\"error\")\n",
    "        return\n",
    "    \n",
    "    x1 = x0 - f(x0)/g(x0)\n",
    "    \n",
    "    if np.abs(f(x0)) < tolerance :\n",
    "        print(f\"Root : {x1}\")\n",
    "        return\n",
    "    else : \n",
    "        print(f\"Iteration {i}, {x1}\")\n",
    "        newton(x1, tolerance, i+1)\n",
    "    \n",
    "newton(4)"
   ]
  },
  {
   "cell_type": "code",
   "execution_count": 4,
   "metadata": {},
   "outputs": [
    {
     "name": "stdout",
     "output_type": "stream",
     "text": [
      "Iteration 0 [0.8  0.7  1.15]\n",
      "dx 1.5660459763365826\n",
      "Iteration 1 [-0.055       0.65083333  1.58569444]\n",
      "dx 0.9608704439365717\n",
      "Iteration 2 [-0.25318056  0.61124769  1.69138233]\n",
      "dx 0.22806245930668492\n",
      "Iteration 3 [-0.29019024  0.59980132  1.7117949 ]\n",
      "dx 0.04378822902864041\n",
      "Iteration 4 [-0.29581798  0.59733718  1.71501946]\n",
      "dx 0.006938385517329205\n",
      "Converged\n"
     ]
    }
   ],
   "source": [
    "#Gauss\n",
    "import numpy as np \n",
    "\n",
    "def diagDom(x) :\n",
    "    x = np.array(x)\n",
    "    diag = np.diag(x)\n",
    "    oD = np.sum(np.abs(x), axis = 1) - diag\n",
    "    \n",
    "    if np.all(diag > oD) :\n",
    "        return True\n",
    "    else : \n",
    "        return False\n",
    "\n",
    "def gauss(x,y, ep = 0.01, t=15) :\n",
    "    if not diagDom(x) :\n",
    "        print(\"Not Dom\")\n",
    "        return\n",
    "    \n",
    "    x = np.array(x)\n",
    "    y = np.array(y)\n",
    "    diag = np.diag(np.abs(x))\n",
    "    x = -x\n",
    "    \n",
    "    np.fill_diagonal(x, 0)\n",
    "    mOld = np.zeros(x[0].shape)\n",
    "    \n",
    "    for i in range(t) :\n",
    "        mNew = np.array(mOld)\n",
    "        for idx, row in enumerate(x) :\n",
    "            mNew[idx] = (y[idx] + np.dot(row, mNew)) / diag[idx]\n",
    "        \n",
    "        print(f\"Iteration {i} {mNew}\")\n",
    "        \n",
    "        dx = np.sqrt(np.dot(mNew - mOld, mNew - mOld))\n",
    "        print(f\"dx {dx}\")\n",
    "        \n",
    "        if dx < ep :\n",
    "            print(\"Converged\")\n",
    "            return\n",
    "        \n",
    "        mOld = mNew\n",
    "        \n",
    "    print(\"Not converged\")\n",
    "    return     \n",
    "    \n",
    "    \n",
    "\n",
    "matrix_x = [[10, 4, 5],\n",
    "            [1, 6, 1],\n",
    "            [3, 1, 6]]\n",
    "matrix_y = [8, 5 ,10]\n",
    "\n",
    "gauss(matrix_x, matrix_y) \n",
    "    "
   ]
  }
 ],
 "metadata": {
  "kernelspec": {
   "display_name": "Python 3",
   "language": "python",
   "name": "python3"
  },
  "language_info": {
   "codemirror_mode": {
    "name": "ipython",
    "version": 3
   },
   "file_extension": ".py",
   "mimetype": "text/x-python",
   "name": "python",
   "nbconvert_exporter": "python",
   "pygments_lexer": "ipython3",
   "version": "3.12.3"
  }
 },
 "nbformat": 4,
 "nbformat_minor": 2
}
