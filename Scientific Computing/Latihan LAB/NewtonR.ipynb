{
 "cells": [
  {
   "cell_type": "code",
   "execution_count": 119,
   "metadata": {},
   "outputs": [
    {
     "name": "stdout",
     "output_type": "stream",
     "text": [
      "Iteration 1. Root = 3.7398879900435595\n",
      "Iteration 2. Root = 2.8037093957599604\n",
      "Iteration 3. Root = 2.1162466440385237\n",
      "Iteration 4. Root = 1.6294750470578656\n",
      "Iteration 5. Root = 1.323206633152923\n",
      "Iteration 6. Root = 1.1879491714522983\n",
      "Root :  1.1631824775989927\n"
     ]
    }
   ],
   "source": [
    "import numpy as np\n",
    "\n",
    "def f(x) : #f(x) = 3x^4 + 2x^3 - 5x^2 + 7x - 10\n",
    "    return 3*x**4 + 2*x**3 - 5*x**2 + 7*x - 10\n",
    "\n",
    "def g(x) :\n",
    "    return 12*x**3 + 6*x**2 - 10*x + 7\n",
    "\n",
    "def newton(x0, tolerance = 0.3, i = 1) : \n",
    "    if i >= 50 :\n",
    "        print(\"Error\")\n",
    "        \n",
    "    \n",
    "    x1 = x0 - f(x0)/g(x0)\n",
    "    \n",
    "    if np.abs(f(x1)) < tolerance :\n",
    "        print(f\"Root : \", x1)\n",
    "    else :\n",
    "        print(f\"Iteration {i}. Root = {x1}\")\n",
    "        newton(x1, tolerance, i+1)\n",
    "\n",
    "newton(5)\n",
    "\n",
    "        "
   ]
  },
  {
   "cell_type": "code",
   "execution_count": 121,
   "metadata": {},
   "outputs": [
    {
     "name": "stdout",
     "output_type": "stream",
     "text": [
      "Iteration 1. Root = 3.7398879900435595\n",
      "Iteration 2. Root = 2.8037093957599604\n",
      "Iteration 3. Root = 2.1162466440385237\n",
      "Iteration 4. Root = 1.6294750470578656\n",
      "Iteration 5. Root = 1.323206633152923\n",
      "Iteration 6. Root = 1.1879491714522983\n",
      "Root :  1.1631824775989927\n"
     ]
    }
   ],
   "source": [
    "import numpy as np\n",
    "\n",
    "def f(x) : #f(x) = 3x^4 + 2x^3 - 5x^2 + 7x - 10\n",
    "    return 3*x**4 + 2*x**3 - 5*x**2 + 7*x - 10\n",
    "\n",
    "def g(x) :\n",
    "    return 12*x**3 + 6*x**2 - 10*x + 7\n",
    "\n",
    "def news(x0, tolerance = 0.3, i = 1) :\n",
    "    if i >= 50 :\n",
    "        print(\"errir\")\n",
    "    \n",
    "    x1 = x0 - f(x0) / g(x0)\n",
    "    \n",
    "    if np.abs(f(x1)) < tolerance :\n",
    "        print(f\"Root = {x1}\")\n",
    "    else :\n",
    "        print(f\"Iteratyion {x1} . Root = {x1}\")\n",
    "        newton(x1, tolerance, i+1)\n",
    "    \n",
    "newton(5)\n"
   ]
  },
  {
   "cell_type": "code",
   "execution_count": null,
   "metadata": {},
   "outputs": [],
   "source": [
    "import numpy as np\n",
    "\n",
    "def f(x) : #f(x) = 3x^4 + 2x^3 - 5x^2 + 7x - 10\n",
    "    return 3*x**4 + 2*x**3 - 5*x**2 + 7*x - 10\n",
    "\n",
    "def g(x) :\n",
    "    return 12*x**3 + 6*x**2 - 10*x + 7"
   ]
  }
 ],
 "metadata": {
  "kernelspec": {
   "display_name": "Python 3",
   "language": "python",
   "name": "python3"
  },
  "language_info": {
   "codemirror_mode": {
    "name": "ipython",
    "version": 3
   },
   "file_extension": ".py",
   "mimetype": "text/x-python",
   "name": "python",
   "nbconvert_exporter": "python",
   "pygments_lexer": "ipython3",
   "version": "3.12.3"
  }
 },
 "nbformat": 4,
 "nbformat_minor": 2
}
