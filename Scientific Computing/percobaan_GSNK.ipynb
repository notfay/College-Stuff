{
 "cells": [
  {
   "cell_type": "code",
   "execution_count": 2,
   "metadata": {},
   "outputs": [
    {
     "name": "stdout",
     "output_type": "stream",
     "text": [
      "iterasi-0\n",
      "[0 0 1]\n",
      "dx : 1.0)\n",
      "iterasi-1\n",
      "[0 0 1]\n",
      "dx : 0.0)\n",
      "Complated\n"
     ]
    },
    {
     "data": {
      "text/plain": [
       "array([0, 0, 1])"
      ]
     },
     "execution_count": 2,
     "metadata": {},
     "output_type": "execute_result"
    }
   ],
   "source": [
    "import numpy as np\n",
    "\n",
    "def isDiagonallyDominant(x):\n",
    "\n",
    "    x = np.array(x)\n",
    "    \n",
    "    diag = np.diag(np.abs(x)) #np.abs(x)\n",
    "\n",
    "    off_diag = np.sum(np.abs(x), axis = 1) - diag\n",
    "\n",
    "    if np.all(diag > off_diag):\n",
    "        return True\n",
    "    else:\n",
    "        return False\n",
    "    \n",
    "def gauss_seidel(x, y, epsilon = 0.01, t = 15):\n",
    "    x = np.array(x)\n",
    "    y = np.array(y)\n",
    "\n",
    "    if not isDiagonallyDominant(x):\n",
    "        print (\"Is not diagonally dominant\")\n",
    "        return \n",
    "\n",
    "    diag = np.diag(x)\n",
    "\n",
    "    x_off_diag = x - np.diagflat(diag) #new\n",
    "\n",
    "    sol = np.zeros_like(y) #new\n",
    "\n",
    "    for i in range(t):\n",
    "        sol_new = np.copy(sol) #new\n",
    "\n",
    "        for idx in range(len(x)):\n",
    "            sol_new[idx] = (y[idx] - np.dot(x_off_diag[idx], sol_new)) / diag[idx] #new\n",
    "\n",
    "        dx = np.linalg.norm(sol_new - sol) #new\n",
    "\n",
    "        print(f'iterasi-{i}')\n",
    "        print(sol_new)\n",
    "\n",
    "        print (f'dx : {dx})')\n",
    "\n",
    "        if dx < epsilon:\n",
    "            print('Complated')\n",
    "            return sol_new\n",
    "        \n",
    "        sol = sol_new\n",
    "\n",
    "    print('not complated')\n",
    "    return\n",
    "\n",
    "matrixx = [[10,4,5],\n",
    "            [1,6,1],\n",
    "            [3,1,6]]\n",
    "\n",
    "matrixy = [8,5,10]\n",
    "\n",
    "isDiagonallyDominant(matrixx)\n",
    "\n",
    "gauss_seidel(matrixx,matrixy)"
   ]
  }
 ],
 "metadata": {
  "kernelspec": {
   "display_name": "Python 3",
   "language": "python",
   "name": "python3"
  },
  "language_info": {
   "codemirror_mode": {
    "name": "ipython",
    "version": 3
   },
   "file_extension": ".py",
   "mimetype": "text/x-python",
   "name": "python",
   "nbconvert_exporter": "python",
   "pygments_lexer": "ipython3",
   "version": "3.12.3"
  },
  "orig_nbformat": 4
 },
 "nbformat": 4,
 "nbformat_minor": 2
}
