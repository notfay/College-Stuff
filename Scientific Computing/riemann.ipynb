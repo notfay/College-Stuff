{
 "cells": [
  {
   "cell_type": "code",
   "execution_count": 15,
   "metadata": {},
   "outputs": [],
   "source": [
    "import numpy as np"
   ]
  },
  {
   "cell_type": "code",
   "execution_count": 16,
   "metadata": {},
   "outputs": [],
   "source": [
    "def f(x) :      #function\n",
    "    x**2 - 5\n",
    "    return x**2 - 5"
   ]
  },
  {
   "cell_type": "code",
   "execution_count": 17,
   "metadata": {},
   "outputs": [
    {
     "name": "stdout",
     "output_type": "stream",
     "text": [
      "Left riemann : 16.40625\n"
     ]
    }
   ],
   "source": [
    "# yang sudah ada di soal : function, batas bawah, batas atas\n",
    "\n",
    "a = 2  # batas bawah\n",
    "b = 5  # batas atas\n",
    "n = 5  # n = jumlah kotak + 1\n",
    "\n",
    "lk = (b - a) / (n-1) #lk = lebar kotak, rumus pertama (hafalin)\n",
    "\n",
    "xDot = np.linspace(a, b, n)\n",
    "yDot = f(xDot)\n",
    "\n",
    "lr = lk * sum(yDot[:n-1]) #lr = left riemann (hafalin)\n",
    "print(f\"Left riemann : {lr}\" )"
   ]
  },
  {
   "cell_type": "code",
   "execution_count": 18,
   "metadata": {},
   "outputs": [
    {
     "name": "stdout",
     "output_type": "stream",
     "text": [
      "Right Riemann : 32.15625\n"
     ]
    }
   ],
   "source": [
    "rr = lk * sum(yDot[1 :])  #rr = right riemann (hafalin)\n",
    "print(f\"Right Riemann : {rr}\")"
   ]
  },
  {
   "cell_type": "code",
   "execution_count": 20,
   "metadata": {},
   "outputs": [
    {
     "name": "stdout",
     "output_type": "stream",
     "text": [
      "Midpoint : 23.859375\n"
     ]
    }
   ],
   "source": [
    "xMid = (xDot[:n-1] + xDot[1:]) / 2 \n",
    "yMid = f(xMid)\n",
    "\n",
    "mp = lk * sum(yMid) \n",
    "print(f\"Midpoint : {mp}\")\n"
   ]
  },
  {
   "cell_type": "code",
   "execution_count": 21,
   "metadata": {},
   "outputs": [
    {
     "name": "stdout",
     "output_type": "stream",
     "text": [
      "Trapezoid : 24.28125\n"
     ]
    }
   ],
   "source": [
    "tp = lk / 2 * (yDot[0] + 2 * sum(yDot[1:n-1]) + (yDot[n-1]))  #Trapezoid\n",
    "print(f\"Trapezoid : {tp}\")\n"
   ]
  }
 ],
 "metadata": {
  "kernelspec": {
   "display_name": "scientific_computing",
   "language": "python",
   "name": "python3"
  },
  "language_info": {
   "codemirror_mode": {
    "name": "ipython",
    "version": 3
   },
   "file_extension": ".py",
   "mimetype": "text/x-python",
   "name": "python",
   "nbconvert_exporter": "python",
   "pygments_lexer": "ipython3",
   "version": "3.7.6"
  },
  "orig_nbformat": 4
 },
 "nbformat": 4,
 "nbformat_minor": 2
}
