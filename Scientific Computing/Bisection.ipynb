{
 "cells": [
  {
   "cell_type": "code",
   "execution_count": 10,
   "metadata": {},
   "outputs": [],
   "source": [
    "import numpy as np"
   ]
  },
  {
   "cell_type": "code",
   "execution_count": 11,
   "metadata": {},
   "outputs": [],
   "source": [
    "def f(x) :\n",
    "    return x**2 - 2 #x^2"
   ]
  },
  {
   "cell_type": "code",
   "execution_count": 12,
   "metadata": {},
   "outputs": [],
   "source": [
    "def bisec (f, a, b, tolerance = 0.1) :\n",
    "    if np.sign(f(a)) == np.sign(f(b)) :\n",
    "        return \n",
    "    \n",
    "    m = (a+b) / 2\n",
    "\n",
    "    if np.abs(f(m)) < tolerance :\n",
    "        return m\n",
    "    elif np.sign(f(m)) == np.sign(f(a)) :\n",
    "        return bisec(f, m, b, tolerance)\n",
    "    elif np.sign(f(m)) == np.sign(f(b)) :\n",
    "        return bisec(f, a, m, tolerance)"
   ]
  },
  {
   "cell_type": "code",
   "execution_count": 13,
   "metadata": {},
   "outputs": [
    {
     "name": "stdout",
     "output_type": "stream",
     "text": [
      "1.4375\n"
     ]
    }
   ],
   "source": [
    "res = bisec(f, 0, 2)\n",
    "print(res)"
   ]
  },
  {
   "cell_type": "code",
   "execution_count": null,
   "metadata": {},
   "outputs": [],
   "source": []
  }
 ],
 "metadata": {
  "kernelspec": {
   "display_name": "scientific_computing",
   "language": "python",
   "name": "python3"
  },
  "language_info": {
   "codemirror_mode": {
    "name": "ipython",
    "version": 3
   },
   "file_extension": ".py",
   "mimetype": "text/x-python",
   "name": "python",
   "nbconvert_exporter": "python",
   "pygments_lexer": "ipython3",
   "version": "3.7.6"
  },
  "orig_nbformat": 4
 },
 "nbformat": 4,
 "nbformat_minor": 2
}
