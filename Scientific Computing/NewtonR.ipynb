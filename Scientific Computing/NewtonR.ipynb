{
 "cells": [
  {
   "cell_type": "code",
   "execution_count": 8,
   "metadata": {},
   "outputs": [],
   "source": [
    "import numpy as np"
   ]
  },
  {
   "cell_type": "code",
   "execution_count": 9,
   "metadata": {},
   "outputs": [],
   "source": [
    "#f(x) = 3x^4 + 2x^3 - 5x^2 + 7x - 10\n",
    "def f(x) :\n",
    "    return 3*x**4 + 2*x**3 - 5*x**2 + 7*x - 10"
   ]
  },
  {
   "cell_type": "code",
   "execution_count": 10,
   "metadata": {},
   "outputs": [],
   "source": [
    "# turunan f(x)\n",
    "def g(x) :\n",
    "    return 12*x**3 + 6*x**2 - 10*x + 7"
   ]
  },
  {
   "cell_type": "code",
   "execution_count": 11,
   "metadata": {},
   "outputs": [],
   "source": [
    "def newtonR(x0, tolerance = 0.3, i = 1) :\n",
    "\n",
    "    if i >= 50 : #Iterasi sampe ke-50\n",
    "        print(\"NO NO NO NO NO NO \")\n",
    "    \n",
    "    x1 = x0 - f(x0) / g(x0)\n",
    "\n",
    "    if np.abs(f(x1)) < tolerance :\n",
    "        print(\"Root = \", x1)\n",
    "        return \n",
    "    else : \n",
    "        print(f\"Iteration {i}. new root = {x1}\")\n",
    "\n",
    "    newtonR(x1, tolerance, i+1)\n",
    "    \n",
    "\n",
    "\n",
    "    "
   ]
  },
  {
   "cell_type": "code",
   "execution_count": 12,
   "metadata": {},
   "outputs": [
    {
     "name": "stdout",
     "output_type": "stream",
     "text": [
      "Iteration 1. new root = 3.7398879900435595\n",
      "Iteration 2. new root = 2.8037093957599604\n",
      "Iteration 3. new root = 2.1162466440385237\n",
      "Iteration 4. new root = 1.6294750470578656\n",
      "Iteration 5. new root = 1.323206633152923\n",
      "Iteration 6. new root = 1.1879491714522983\n",
      "Root =  1.1631824775989927\n"
     ]
    }
   ],
   "source": [
    "newtonR(5)"
   ]
  }
 ],
 "metadata": {
  "kernelspec": {
   "display_name": "scientific_computing",
   "language": "python",
   "name": "python3"
  },
  "language_info": {
   "codemirror_mode": {
    "name": "ipython",
    "version": 3
   },
   "file_extension": ".py",
   "mimetype": "text/x-python",
   "name": "python",
   "nbconvert_exporter": "python",
   "pygments_lexer": "ipython3",
   "version": "3.7.6"
  },
  "orig_nbformat": 4
 },
 "nbformat": 4,
 "nbformat_minor": 2
}
