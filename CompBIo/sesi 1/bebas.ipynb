{
 "cells": [
  {
   "cell_type": "code",
   "execution_count": 1,
   "metadata": {},
   "outputs": [
    {
     "name": "stdout",
     "output_type": "stream",
     "text": [
      "Requirement already satisfied: biopython in c:\\anaconda3\\envs\\computational_biology\\lib\\site-packages (1.78)\n",
      "Requirement already satisfied: numpy in c:\\anaconda3\\envs\\computational_biology\\lib\\site-packages (from biopython) (1.26.4)\n",
      "Note: you may need to restart the kernel to use updated packages.\n"
     ]
    }
   ],
   "source": [
    "%pip install biopython"
   ]
  },
  {
   "cell_type": "code",
   "execution_count": 3,
   "metadata": {},
   "outputs": [],
   "source": [
    "import Bio \n",
    "from Bio.Seq  import Seq"
   ]
  },
  {
   "cell_type": "code",
   "execution_count": 5,
   "metadata": {},
   "outputs": [
    {
     "name": "stdout",
     "output_type": "stream",
     "text": [
      "ATGCATGGTGCGCGA\n",
      "ATTTGTGCTCCTGGA\n"
     ]
    }
   ],
   "source": [
    "#DNA Sequence \n",
    "\n",
    "sequenceA = Seq('ATGCATGGTGCGCGA')\n",
    "sequenceB = Seq('ATTTGTGCTCCTGGA')\n",
    "\n",
    "print(sequenceA)\n",
    "print(sequenceB)   "
   ]
  },
  {
   "cell_type": "code",
   "execution_count": 7,
   "metadata": {},
   "outputs": [
    {
     "name": "stdout",
     "output_type": "stream",
     "text": [
      "ATGCATGGTGCGCGAATTTGTGCTCCTGGA\n"
     ]
    }
   ],
   "source": [
    "#Combine DNA \n",
    "\n",
    "total = sequenceA + sequenceB\n",
    "print(total)"
   ]
  },
  {
   "cell_type": "code",
   "execution_count": 8,
   "metadata": {},
   "outputs": [
    {
     "name": "stdout",
     "output_type": "stream",
     "text": [
      "GAGT\n"
     ]
    }
   ],
   "source": [
    "#DNA Slicing\n",
    "\n",
    "\n",
    "slicing = sequenceA[2:10:2] #Start(Index 2):End (Index 10):Steps (2 Steps)\n",
    "\n",
    "#Reverse the Sequence [::-1]\n",
    "\n",
    "print(slicing)"
   ]
  },
  {
   "cell_type": "code",
   "execution_count": 17,
   "metadata": {},
   "outputs": [
    {
     "name": "stdout",
     "output_type": "stream",
     "text": [
      "3\n",
      "0\n",
      "1\n"
     ]
    }
   ],
   "source": [
    "#Count, Find, Index\n",
    "\n",
    "countA = sequenceA.count('A')   #How many A in the sequence\n",
    "print(countA)\n",
    "\n",
    "\n",
    "findA = sequenceA.find('A')     #Display the index location of the first A, if not found return -1\n",
    "print(findA)\n",
    "\n",
    "indexA = sequenceA.index('T')   #Same as find, if not found return error\n",
    "print(indexA)\n"
   ]
  },
  {
   "cell_type": "code",
   "execution_count": 19,
   "metadata": {},
   "outputs": [
    {
     "name": "stdout",
     "output_type": "stream",
     "text": [
      "['GT', 7]\n"
     ]
    }
   ],
   "source": [
    "#Subsequence / nt_search\n",
    "\n",
    "from Bio.SeqUtils import nt_search\n",
    "\n",
    "mainSeq = Seq('ATGCATGGTGCGCGA')\n",
    "subSeq = Seq('GT')\n",
    "\n",
    "search = nt_search(str(mainSeq), str(subSeq))\n",
    "#Find Index location of the GT sequence (Index 7)\n",
    "\n",
    "print(search)\n"
   ]
  },
  {
   "cell_type": "code",
   "execution_count": 20,
   "metadata": {},
   "outputs": [
    {
     "name": "stdout",
     "output_type": "stream",
     "text": [
      "Requirement already satisfied: matplotlib in c:\\anaconda3\\envs\\computational_biology\\lib\\site-packages (3.8.4)\n",
      "Requirement already satisfied: contourpy>=1.0.1 in c:\\anaconda3\\envs\\computational_biology\\lib\\site-packages (from matplotlib) (1.2.0)\n",
      "Requirement already satisfied: cycler>=0.10 in c:\\anaconda3\\envs\\computational_biology\\lib\\site-packages (from matplotlib) (0.11.0)\n",
      "Requirement already satisfied: fonttools>=4.22.0 in c:\\anaconda3\\envs\\computational_biology\\lib\\site-packages (from matplotlib) (4.51.0)\n",
      "Requirement already satisfied: kiwisolver>=1.3.1 in c:\\anaconda3\\envs\\computational_biology\\lib\\site-packages (from matplotlib) (1.4.4)\n",
      "Requirement already satisfied: numpy>=1.21 in c:\\anaconda3\\envs\\computational_biology\\lib\\site-packages (from matplotlib) (1.26.4)\n",
      "Requirement already satisfied: packaging>=20.0 in c:\\anaconda3\\envs\\computational_biology\\lib\\site-packages (from matplotlib) (23.2)\n",
      "Requirement already satisfied: pillow>=8 in c:\\anaconda3\\envs\\computational_biology\\lib\\site-packages (from matplotlib) (10.3.0)\n",
      "Requirement already satisfied: pyparsing>=2.3.1 in c:\\anaconda3\\envs\\computational_biology\\lib\\site-packages (from matplotlib) (3.0.9)\n",
      "Requirement already satisfied: python-dateutil>=2.7 in c:\\anaconda3\\envs\\computational_biology\\lib\\site-packages (from matplotlib) (2.9.0.post0)\n",
      "Requirement already satisfied: six>=1.5 in c:\\anaconda3\\envs\\computational_biology\\lib\\site-packages (from python-dateutil>=2.7->matplotlib) (1.16.0)\n",
      "Note: you may need to restart the kernel to use updated packages.\n"
     ]
    }
   ],
   "source": [
    "%pip install matplotlib"
   ]
  },
  {
   "cell_type": "code",
   "execution_count": 32,
   "metadata": {},
   "outputs": [
    {
     "name": "stdout",
     "output_type": "stream",
     "text": [
      "ATGCATGGTGCGCGA\n",
      "Counter({'G': 6, 'A': 3, 'T': 3, 'C': 3})\n"
     ]
    },
    {
     "data": {
      "text/plain": [
       "<BarContainer object of 4 artists>"
      ]
     },
     "execution_count": 32,
     "metadata": {},
     "output_type": "execute_result"
    },
    {
     "data": {
      "image/png": "[encoded data removed]",
      "text/plain": [
       "<Figure size 640x480 with 1 Axes>"
      ]
     },
     "metadata": {},
     "output_type": "display_data"
    }
   ],
   "source": [
    "import matplotlib.pyplot as plt\n",
    "from collections import Counter\n",
    "\n",
    "#Plotting \n",
    "\n",
    "dna_freq1 = Counter(sequenceA)\n",
    "dna_freq2 = Counter(sequenceB)\n",
    "\n",
    "print(sequenceA)\n",
    "print(dna_freq1)\n",
    "\n",
    "plt.bar(dna_freq1.keys(), dna_freq1.values())\n",
    "plt.bar(dna_freq2.keys(), dna_freq2.values())\n",
    "\n",
    "\n"
   ]
  }
 ],
 "metadata": {
  "kernelspec": {
   "display_name": "computational_biology",
   "language": "python",
   "name": "python3"
  },
  "language_info": {
   "codemirror_mode": {
    "name": "ipython",
    "version": 3
   },
   "file_extension": ".py",
   "mimetype": "text/x-python",
   "name": "python",
   "nbconvert_exporter": "python",
   "pygments_lexer": "ipython3",
   "version": "3.12.4"
  }
 },
 "nbformat": 4,
 "nbformat_minor": 2
}
