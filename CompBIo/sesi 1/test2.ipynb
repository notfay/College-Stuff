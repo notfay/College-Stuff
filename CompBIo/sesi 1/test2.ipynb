{
 "cells": [
  {
   "cell_type": "code",
   "execution_count": 1,
   "metadata": {},
   "outputs": [],
   "source": [
    "import Bio \n",
    "from Bio.Seq  import Seq"
   ]
  },
  {
   "cell_type": "code",
   "execution_count": 6,
   "metadata": {},
   "outputs": [
    {
     "name": "stdout",
     "output_type": "stream",
     "text": [
      "49\n",
      "49\n",
      "AGCTACGTATTCGATGCATTACGTCAGCCGACGATCGATGCTAGTCACGCAGCCGTATGACGACTGTACGGTAGCACTGATGTGGGATTAAATGCATA\n",
      "98\n"
     ]
    }
   ],
   "source": [
    "seqA = Seq('AGCTACGTATTCGATGCATTACGTCAGCCGACGATCGATGCTAGTCACG')\n",
    "seqB = Seq('CAGCCGTATGACGACTGTACGGTAGCACTGATGTGGGATTAAATGCATA')\n",
    "\n",
    "#1 \n",
    "print(len(seqA))\n",
    "print(len(seqB))\n",
    "\n",
    "total = seqA + seqB\n",
    "print(total)\n",
    "print(len(total))\n"
   ]
  },
  {
   "cell_type": "code",
   "execution_count": 15,
   "metadata": {},
   "outputs": [
    {
     "name": "stdout",
     "output_type": "stream",
     "text": [
      "['TAT', 7, 55]\n",
      "24\n"
     ]
    }
   ],
   "source": [
    "from Bio.SeqUtils import nt_search\n",
    "\n",
    "\n",
    "main_seq = Seq('AGCTACGTATTCGATGCATTACGTCAGCCGACGATCGATGCTAGTCACGCAGCCGTATGACGACTGTACGGTAGCACTGATGTGGGATTAAATGCATA')\n",
    "sub_seq = Seq('TAT')\n",
    "\n",
    "#•\tDetermine the number of times the codon (TAT) appears in both sequences.\n",
    "search = nt_search(str(main_seq), str(sub_seq))\n",
    "print(search)\n",
    "\n",
    "# •\tLocate the first occurrence index position of the sub-sequence (CAGCC) in both sequences.\n",
    "indexA = total.index('CAGCC')\n",
    "print(indexA)"
   ]
  },
  {
   "cell_type": "code",
   "execution_count": 34,
   "metadata": {},
   "outputs": [
    {
     "name": "stdout",
     "output_type": "stream",
     "text": [
      "AGCTACGTATTCGATTAAATGCATA\n"
     ]
    }
   ],
   "source": [
    "# Combine the first 15 nucleotides from sequence T and the last 10 nucleotides from sequence B to create a new DNA sequence called sequence A \n",
    "sequenceT = seqA[:15] + seqB[-10::]\n",
    "print(sequenceT)"
   ]
  },
  {
   "cell_type": "code",
   "execution_count": 35,
   "metadata": {},
   "outputs": [
    {
     "name": "stdout",
     "output_type": "stream",
     "text": [
      "ATACGTAAATTAGCTTATGCATCGA\n"
     ]
    }
   ],
   "source": [
    "reversed = sequenceT[::-1]\n",
    "print(reversed)"
   ]
  },
  {
   "cell_type": "code",
   "execution_count": 36,
   "metadata": {},
   "outputs": [
    {
     "name": "stdout",
     "output_type": "stream",
     "text": [
      "Counter({'C': 13, 'A': 12, 'G': 12, 'T': 12})\n",
      "Counter({'A': 14, 'G': 14, 'T': 12, 'C': 9})\n",
      "Counter({'A': 9, 'T': 8, 'G': 4, 'C': 4})\n"
     ]
    },
    {
     "data": {
      "image/png": "[encoded data removed]",
      "text/plain": [
       "<Figure size 640x480 with 1 Axes>"
      ]
     },
     "metadata": {},
     "output_type": "display_data"
    }
   ],
   "source": [
    "#•\tPlot the nucleotide base (A, C, G, T) frequency of each of the sequence A, sequence B, and sequence C using the Matplotlib library.\n",
    "\n",
    "import matplotlib.pyplot as plt\n",
    "from collections import Counter\n",
    "\n",
    "dnaFreq = Counter(seqA)\n",
    "dnaFreq2 = Counter(seqB)\n",
    "dnaFreq3 = Counter(sequenceT)\n",
    "\n",
    "plt.bar(dnaFreq.keys(), dnaFreq.values())\n",
    "plt.bar(dnaFreq2.keys(), dnaFreq2.values())\n",
    "plt.bar(dnaFreq3.keys(), dnaFreq3.values())\n",
    "\n",
    "print(dnaFreq)\n",
    "\n",
    "print(dnaFreq2)\n",
    "\n",
    "print(dnaFreq3)"
   ]
  }
 ],
 "metadata": {
  "kernelspec": {
   "display_name": "computational_biology",
   "language": "python",
   "name": "python3"
  },
  "language_info": {
   "codemirror_mode": {
    "name": "ipython",
    "version": 3
   },
   "file_extension": ".py",
   "mimetype": "text/x-python",
   "name": "python",
   "nbconvert_exporter": "python",
   "pygments_lexer": "ipython3",
   "version": "3.12.4"
  }
 },
 "nbformat": 4,
 "nbformat_minor": 2
}
