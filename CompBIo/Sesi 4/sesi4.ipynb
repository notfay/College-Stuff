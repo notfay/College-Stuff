{
 "cells": [
  {
   "cell_type": "markdown",
   "metadata": {},
   "source": [
    "Import Library"
   ]
  },
  {
   "cell_type": "code",
   "execution_count": 18,
   "metadata": {},
   "outputs": [
    {
     "name": "stdout",
     "output_type": "stream",
     "text": [
      "Requirement already satisfied: biopython in c:\\anaconda3\\envs\\computational_biology\\lib\\site-packages (1.78)\n",
      "Requirement already satisfied: numpy in c:\\anaconda3\\envs\\computational_biology\\lib\\site-packages (from biopython) (1.26.4)\n",
      "Note: you may need to restart the kernel to use updated packages.\n"
     ]
    }
   ],
   "source": [
    "%pip install biopython"
   ]
  },
  {
   "cell_type": "code",
   "execution_count": 19,
   "metadata": {},
   "outputs": [],
   "source": [
    "from Bio.Seq import Seq"
   ]
  },
  {
   "cell_type": "markdown",
   "metadata": {},
   "source": [
    "1.Bikin Sequence\n"
   ]
  },
  {
   "cell_type": "code",
   "execution_count": 20,
   "metadata": {},
   "outputs": [],
   "source": [
    "dnaA = Seq(\"CACGTGATCAA\")\n",
    "dnaB = Seq(\"AGCATCGGTTG\")"
   ]
  },
  {
   "cell_type": "markdown",
   "metadata": {},
   "source": [
    "Global Alignment\n",
    "\n",
    "Match : Score +1   / Missmatch : Score -1\n",
    "Gap : Score -0,5"
   ]
  },
  {
   "cell_type": "code",
   "execution_count": 21,
   "metadata": {},
   "outputs": [
    {
     "name": "stdout",
     "output_type": "stream",
     "text": [
      "Alignment(seqA='--CA-CGTGATCAA--', seqB='AGCATCG-G-T---TG', score=6.0, start=0, end=16)\n",
      "Alignment(seqA='--CA-CGTGATCAA-', seqB='AGCATCG-G-T--TG', score=6.0, start=0, end=15)\n",
      "Alignment(seqA='--CA-CGTGATCAA-', seqB='AGCATCG-G-T-T-G', score=6.0, start=0, end=15)\n",
      "Alignment(seqA='--CA-CGTGATCAA-', seqB='AGCATCG-G-TT--G', score=6.0, start=0, end=15)\n",
      "Alignment(seqA='--CA-CGTGA-TCAA-', seqB='AGCATCG-G-TT---G', score=6.0, start=0, end=16)\n",
      "Alignment(seqA='--CA-CGTGATCAA-', seqB='AGCATCG-GTT---G', score=6.0, start=0, end=15)\n",
      "Alignment(seqA='--CA-CG-TGATCAA-', seqB='AGCATCGGT--T---G', score=6.0, start=0, end=16)\n",
      "Alignment(seqA='--CA-C-GTGATCAA-', seqB='AGCATCGGT--T---G', score=6.0, start=0, end=16)\n",
      "Alignment(seqA='--CA-CGTGATCA-A', seqB='AGCATCG-G-T--TG', score=6.0, start=0, end=15)\n",
      "Alignment(seqA='--CA-CGTGATCAA', seqB='AGCATCG-G-T-TG', score=6.0, start=0, end=14)\n",
      "Alignment(seqA='--CA-CGTGATCAA', seqB='AGCATCG-G-TT-G', score=6.0, start=0, end=14)\n",
      "Alignment(seqA='--CA-CGTGA-TCAA', seqB='AGCATCG-G-TT--G', score=6.0, start=0, end=15)\n",
      "Alignment(seqA='--CA-CGTGATCAA', seqB='AGCATCG-GTT--G', score=6.0, start=0, end=14)\n",
      "Alignment(seqA='--CA-CG-TGATCAA', seqB='AGCATCGGT--T--G', score=6.0, start=0, end=15)\n",
      "Alignment(seqA='--CA-C-GTGATCAA', seqB='AGCATCGGT--T--G', score=6.0, start=0, end=15)\n",
      "Alignment(seqA='--CA-CGTGATC-AA', seqB='AGCATCG-G-T-TG-', score=6.0, start=0, end=15)\n",
      "Alignment(seqA='--CA-CGTGATCAA', seqB='AGCATCG-G-TTG-', score=6.0, start=0, end=14)\n",
      "Alignment(seqA='--CA-CGTGA-TCAA', seqB='AGCATCG-G-TT-G-', score=6.0, start=0, end=15)\n",
      "Alignment(seqA='--CA-CGTGATCAA', seqB='AGCATCG-GTT-G-', score=6.0, start=0, end=14)\n",
      "Alignment(seqA='--CA-CG-TGATCAA', seqB='AGCATCGGT--T-G-', score=6.0, start=0, end=15)\n",
      "Alignment(seqA='--CA-C-GTGATCAA', seqB='AGCATCGGT--T-G-', score=6.0, start=0, end=15)\n",
      "Alignment(seqA='--CA-CGTGAT-CAA', seqB='AGCATCG-G-TTG--', score=6.0, start=0, end=15)\n",
      "Alignment(seqA='--CA-CGTGA-TCAA', seqB='AGCATCG-G-TTG--', score=6.0, start=0, end=15)\n",
      "Alignment(seqA='--CA-CGTGATCAA', seqB='AGCATCG-GTTG--', score=6.0, start=0, end=14)\n",
      "Alignment(seqA='--CA-CG-TGATCAA', seqB='AGCATCGGT--TG--', score=6.0, start=0, end=15)\n",
      "Alignment(seqA='--CA-C-GTGATCAA', seqB='AGCATCGGT--TG--', score=6.0, start=0, end=15)\n",
      "Alignment(seqA='--CA-CG-T-GATCAA', seqB='AGCATCGGTTG-----', score=6.0, start=0, end=16)\n",
      "Alignment(seqA='--CA-C-GT-GATCAA', seqB='AGCATCGGTTG-----', score=6.0, start=0, end=16)\n",
      "Alignment(seqA='--CA-CG--TGATCAA', seqB='AGCATCGGTTG-----', score=6.0, start=0, end=16)\n",
      "Alignment(seqA='--CA-C-G-TGATCAA', seqB='AGCATCGGTTG-----', score=6.0, start=0, end=16)\n"
     ]
    }
   ],
   "source": [
    "from Bio import pairwise2\n",
    "alignments = pairwise2.align.globalxx(dnaA, dnaB)  #local ubah globalxx jadi local\n",
    "\n",
    "#view possible alignments\n",
    "for alignment in alignments:\n",
    "    print(alignment)"
   ]
  },
  {
   "cell_type": "code",
   "execution_count": 22,
   "metadata": {},
   "outputs": [
    {
     "name": "stdout",
     "output_type": "stream",
     "text": [
      "--CA-CGTGATCAA--\n",
      "  || || | |     \n",
      "AGCATCG-G-T---TG\n",
      "  Score=6\n",
      "\n",
      "--CA-CGTGATCAA-\n",
      "  || || | |  . \n",
      "AGCATCG-G-T--TG\n",
      "  Score=6\n",
      "\n",
      "--CA-CGTGATCAA-\n",
      "  || || | | .  \n",
      "AGCATCG-G-T-T-G\n",
      "  Score=6\n",
      "\n",
      "--CA-CGTGATCAA-\n",
      "  || || | |.   \n",
      "AGCATCG-G-TT--G\n",
      "  Score=6\n",
      "\n",
      "--CA-CGTGA-TCAA-\n",
      "  || || |  |    \n",
      "AGCATCG-G-TT---G\n",
      "  Score=6\n",
      "\n",
      "--CA-CGTGATCAA-\n",
      "  || || |.|    \n",
      "AGCATCG-GTT---G\n",
      "  Score=6\n",
      "\n",
      "--CA-CG-TGATCAA-\n",
      "  || || |  |    \n",
      "AGCATCGGT--T---G\n",
      "  Score=6\n",
      "\n",
      "--CA-C-GTGATCAA-\n",
      "  || | ||  |    \n",
      "AGCATCGGT--T---G\n",
      "  Score=6\n",
      "\n",
      "--CA-CGTGATCA-A\n",
      "  || || | |   .\n",
      "AGCATCG-G-T--TG\n",
      "  Score=6\n",
      "\n",
      "--CA-CGTGATCAA\n",
      "  || || | | ..\n",
      "AGCATCG-G-T-TG\n",
      "  Score=6\n",
      "\n",
      "--CA-CGTGATCAA\n",
      "  || || | |. .\n",
      "AGCATCG-G-TT-G\n",
      "  Score=6\n",
      "\n",
      "--CA-CGTGA-TCAA\n",
      "  || || |  |  .\n",
      "AGCATCG-G-TT--G\n",
      "  Score=6\n",
      "\n",
      "--CA-CGTGATCAA\n",
      "  || || |.|  .\n",
      "AGCATCG-GTT--G\n",
      "  Score=6\n",
      "\n",
      "--CA-CG-TGATCAA\n",
      "  || || |  |  .\n",
      "AGCATCGGT--T--G\n",
      "  Score=6\n",
      "\n",
      "--CA-C-GTGATCAA\n",
      "  || | ||  |  .\n",
      "AGCATCGGT--T--G\n",
      "  Score=6\n",
      "\n",
      "--CA-CGTGATC-AA\n",
      "  || || | |  . \n",
      "AGCATCG-G-T-TG-\n",
      "  Score=6\n",
      "\n",
      "--CA-CGTGATCAA\n",
      "  || || | |.. \n",
      "AGCATCG-G-TTG-\n",
      "  Score=6\n",
      "\n",
      "--CA-CGTGA-TCAA\n",
      "  || || |  | . \n",
      "AGCATCG-G-TT-G-\n",
      "  Score=6\n",
      "\n",
      "--CA-CGTGATCAA\n",
      "  || || |.| . \n",
      "AGCATCG-GTT-G-\n",
      "  Score=6\n",
      "\n",
      "--CA-CG-TGATCAA\n",
      "  || || |  | . \n",
      "AGCATCGGT--T-G-\n",
      "  Score=6\n",
      "\n",
      "--CA-C-GTGATCAA\n",
      "  || | ||  | . \n",
      "AGCATCGGT--T-G-\n",
      "  Score=6\n",
      "\n",
      "--CA-CGTGAT-CAA\n",
      "  || || | | .  \n",
      "AGCATCG-G-TTG--\n",
      "  Score=6\n",
      "\n",
      "--CA-CGTGA-TCAA\n",
      "  || || |  |.  \n",
      "AGCATCG-G-TTG--\n",
      "  Score=6\n",
      "\n",
      "--CA-CGTGATCAA\n",
      "  || || |.|.  \n",
      "AGCATCG-GTTG--\n",
      "  Score=6\n",
      "\n",
      "--CA-CG-TGATCAA\n",
      "  || || |  |.  \n",
      "AGCATCGGT--TG--\n",
      "  Score=6\n",
      "\n",
      "--CA-C-GTGATCAA\n",
      "  || | ||  |.  \n",
      "AGCATCGGT--TG--\n",
      "  Score=6\n",
      "\n",
      "--CA-CG-T-GATCAA\n",
      "  || || | |     \n",
      "AGCATCGGTTG-----\n",
      "  Score=6\n",
      "\n",
      "--CA-C-GT-GATCAA\n",
      "  || | || |     \n",
      "AGCATCGGTTG-----\n",
      "  Score=6\n",
      "\n",
      "--CA-CG--TGATCAA\n",
      "  || ||  ||     \n",
      "AGCATCGGTTG-----\n",
      "  Score=6\n",
      "\n",
      "--CA-C-G-TGATCAA\n",
      "  || | | ||     \n",
      "AGCATCGGTTG-----\n",
      "  Score=6\n",
      "\n"
     ]
    }
   ],
   "source": [
    "from Bio.pairwise2 import format_alignment\n",
    "for alignment in alignments:\n",
    "    print(format_alignment(*alignment))"
   ]
  },
  {
   "cell_type": "markdown",
   "metadata": {},
   "source": [
    "Local Alignment"
   ]
  },
  {
   "cell_type": "code",
   "execution_count": 23,
   "metadata": {},
   "outputs": [
    {
     "name": "stdout",
     "output_type": "stream",
     "text": [
      "1 CA-CGTGA-T\n",
      "  || || |  |\n",
      "3 CATCG-G-TT\n",
      "  Score=6\n",
      "\n",
      "1 CA-CGTGAT\n",
      "  || || |.|\n",
      "3 CATCG-GTT\n",
      "  Score=6\n",
      "\n",
      "1 CA-CG-TGAT\n",
      "  || || |  |\n",
      "3 CATCGGT--T\n",
      "  Score=6\n",
      "\n",
      "1 CA-C-GTGAT\n",
      "  || | ||  |\n",
      "3 CATCGGT--T\n",
      "  Score=6\n",
      "\n",
      "1 CA-CGTGAT\n",
      "  || || | |\n",
      "3 CATCG-G-T\n",
      "  Score=6\n",
      "\n",
      "1 CA-CG-T-G\n",
      "  || || | |\n",
      "3 CATCGGTTG\n",
      "  Score=6\n",
      "\n",
      "1 CA-C-GT-G\n",
      "  || | || |\n",
      "3 CATCGGTTG\n",
      "  Score=6\n",
      "\n",
      "1 CA-CG--TG\n",
      "  || ||  ||\n",
      "3 CATCGGTTG\n",
      "  Score=6\n",
      "\n",
      "1 CA-C-G-TG\n",
      "  || | | ||\n",
      "3 CATCGGTTG\n",
      "  Score=6\n",
      "\n"
     ]
    }
   ],
   "source": [
    "from Bio import pairwise2\n",
    "alignments = pairwise2.align.localxx(dnaA, dnaB)  #local ubah globalxx jadi local\n",
    "\n",
    "from Bio.pairwise2 import format_alignment\n",
    "for alignment in alignments:\n",
    "    print(format_alignment(*alignment))"
   ]
  },
  {
   "cell_type": "markdown",
   "metadata": {},
   "source": [
    "global/localxx = kalo mau default score \n",
    "global/localms = mencari mismatch\n",
    "global/localmx = nyari nilai match & mismatch secara custom"
   ]
  },
  {
   "cell_type": "code",
   "execution_count": 16,
   "metadata": {},
   "outputs": [
    {
     "name": "stdout",
     "output_type": "stream",
     "text": [
      "--CA-CG--TGATCAA\n",
      "  || ||  ||     \n",
      "AGCATCGGTTG-----\n",
      "  Score=3.4\n",
      "\n"
     ]
    }
   ],
   "source": [
    "from Bio import pairwise2\n",
    "alignments = pairwise2.align.globalms(dnaA, dnaB, 1, -1, -0.5, -0.1)  #local ubah globalxx jadi local\n",
    "\n",
    "from Bio.pairwise2 import format_alignment\n",
    "for alignment in alignments:\n",
    "    print(format_alignment(*alignment))"
   ]
  },
  {
   "cell_type": "code",
   "execution_count": 17,
   "metadata": {},
   "outputs": [
    {
     "name": "stdout",
     "output_type": "stream",
     "text": [
      "1 CA-CG--TG\n",
      "  || ||  ||\n",
      "3 CATCGGTTG\n",
      "  Score=4.9\n",
      "\n"
     ]
    }
   ],
   "source": [
    "from Bio import pairwise2\n",
    "alignments = pairwise2.align.localms(dnaA, dnaB, 1, -1, -0.5, -0.1)  #local ubah globalxx jadi local\n",
    "\n",
    "from Bio.pairwise2 import format_alignment\n",
    "for alignment in alignments:\n",
    "    print(format_alignment(*alignment))"
   ]
  },
  {
   "cell_type": "markdown",
   "metadata": {},
   "source": [
    "Hamming Distance"
   ]
  },
  {
   "cell_type": "code",
   "execution_count": 34,
   "metadata": {},
   "outputs": [],
   "source": [
    "def hamming(seq1, seq2):\n",
    "    h = []\n",
    "    \n",
    "    for x,y in zip(seq1, seq2):\n",
    "        if(x!=y):\n",
    "            h.append((x,y))\n",
    "            \n",
    "    return len(h)"
   ]
  },
  {
   "cell_type": "code",
   "execution_count": 35,
   "metadata": {},
   "outputs": [
    {
     "name": "stdout",
     "output_type": "stream",
     "text": [
      "9\n"
     ]
    }
   ],
   "source": [
    "print(hamming(dnaA, dnaB))"
   ]
  },
  {
   "cell_type": "markdown",
   "metadata": {},
   "source": [
    "Levenshtein distance"
   ]
  },
  {
   "cell_type": "code",
   "execution_count": 36,
   "metadata": {},
   "outputs": [
    {
     "name": "stdout",
     "output_type": "stream",
     "text": [
      "8\n"
     ]
    }
   ],
   "source": [
    "from Levenshtein import distance\n",
    "print(distance(dnaA, dnaB))"
   ]
  },
  {
   "cell_type": "markdown",
   "metadata": {},
   "source": [
    "Dot Plot"
   ]
  },
  {
   "cell_type": "code",
   "execution_count": 44,
   "metadata": {},
   "outputs": [
    {
     "name": "stdout",
     "output_type": "stream",
     "text": [
      " |AGCATCGGTTG\n",
      "---------------\n",
      "C|    ■     ■          \n",
      "A|■     ■              \n",
      "C|    ■     ■          \n",
      "G|  ■         ■ ■     ■\n",
      "T|        ■       ■ ■  \n",
      "G|  ■         ■ ■     ■\n",
      "A|■     ■              \n",
      "T|        ■       ■ ■  \n",
      "C|    ■     ■          \n",
      "A|■     ■              \n",
      "A|■     ■              \n"
     ]
    }
   ],
   "source": [
    "def delta(x,y):\n",
    "    if (x != y):\n",
    "        return 1\n",
    "    else:\n",
    "        return 0 \n",
    "    \n",
    "def M(seq1, seq2, i, j, k):\n",
    "    m = []\n",
    "    \n",
    "    for x,y in zip(seq1[i:i+k], seq2[j:j+k]):\n",
    "        m.append(delta(x,y))\n",
    "        return sum(m)\n",
    "    \n",
    "def makeMatrix(seq1, seq2, k):\n",
    "    m1 = []\n",
    "    for i in range(len(seq1) - k + 1):\n",
    "        m2 = []\n",
    "        for j in range(len(seq2) - k + 1):\n",
    "            m2.append(M(seq1, seq2, i, j, k))\n",
    "        m1.append(m2)\n",
    "    return m1\n",
    "\n",
    "def plotMatrix(M, tolerance, seq1, seq2, nonblank = chr (0x25A0), blank = ' '):\n",
    "    print(\" |\" + seq2)\n",
    "    print('-' * (4 + len(seq2)))\n",
    "\n",
    "    for label, row in zip(seq1, M) :\n",
    "        line = ' '.join(nonblank if score < tolerance else blank for score in row)\n",
    "        print(label + '|' + line)\n",
    "    \n",
    "#Dot Plot\n",
    "def dotplot(seq1, seq2, k=1, t=1):\n",
    "    Matrix = makeMatrix(seq1, seq2, k)\n",
    "    plotMatrix(Matrix, t, seq1, seq2)\n",
    "\n",
    "\n",
    "dotplot(dnaA, dnaB)"
   ]
  },
  {
   "cell_type": "code",
   "execution_count": null,
   "metadata": {},
   "outputs": [],
   "source": []
  }
 ],
 "metadata": {
  "kernelspec": {
   "display_name": "computational_biology",
   "language": "python",
   "name": "python3"
  },
  "language_info": {
   "codemirror_mode": {
    "name": "ipython",
    "version": 3
   },
   "file_extension": ".py",
   "mimetype": "text/x-python",
   "name": "python",
   "nbconvert_exporter": "python",
   "pygments_lexer": "ipython3",
   "version": "3.12.4"
  }
 },
 "nbformat": 4,
 "nbformat_minor": 2
}
