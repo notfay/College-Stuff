{
 "cells": [
  {
   "cell_type": "code",
   "execution_count": 10,
   "metadata": {},
   "outputs": [
    {
     "name": "stdout",
     "output_type": "stream",
     "text": [
      "Requirement already satisfied: BioPython in c:\\anaconda3\\envs\\computational_biology\\lib\\site-packages (1.78)\n",
      "Requirement already satisfied: numpy in c:\\anaconda3\\envs\\computational_biology\\lib\\site-packages (from BioPython) (1.26.4)\n",
      "Note: you may need to restart the kernel to use updated packages.\n"
     ]
    }
   ],
   "source": [
    "%pip install BioPython"
   ]
  },
  {
   "cell_type": "code",
   "execution_count": 11,
   "metadata": {},
   "outputs": [],
   "source": [
    "import Bio\n",
    "#Bio.Seq untuk sequence \n",
    "#Bio.SeqUtils untuk tools sequence"
   ]
  },
  {
   "cell_type": "code",
   "execution_count": 42,
   "metadata": {},
   "outputs": [],
   "source": [
    "from Bio.SeqUtils import GC"
   ]
  },
  {
   "cell_type": "code",
   "execution_count": 43,
   "metadata": {},
   "outputs": [
    {
     "name": "stdout",
     "output_type": "stream",
     "text": [
      "The Percentage found by built in funtion:  62.5\n"
     ]
    }
   ],
   "source": [
    "print(\"The Percentage found by built in funtion: \", GC(DNA))"
   ]
  },
  {
   "cell_type": "code",
   "execution_count": 44,
   "metadata": {},
   "outputs": [
    {
     "name": "stdout",
     "output_type": "stream",
     "text": [
      "ATGGCACGCGTGCGAT\n"
     ]
    }
   ],
   "source": [
    "DNA = Seq(\"ATGGCACGCGTGCGAT\")\n",
    "print(DNA)"
   ]
  },
  {
   "cell_type": "markdown",
   "metadata": {},
   "source": [
    "<h1> Mencari Percentage dari DNA Sequence (penggunaaan library) </h1>"
   ]
  },
  {
   "cell_type": "code",
   "execution_count": 45,
   "metadata": {},
   "outputs": [
    {
     "ename": "ImportError",
     "evalue": "cannot import name 'GC_fraction' from 'Bio.SeqUtils' (c:\\Anaconda3\\envs\\computational_biology\\Lib\\site-packages\\Bio\\SeqUtils\\__init__.py)",
     "output_type": "error",
     "traceback": [
      "\u001b[1;31m---------------------------------------------------------------------------\u001b[0m",
      "\u001b[1;31mImportError\u001b[0m                               Traceback (most recent call last)",
      "Cell \u001b[1;32mIn[45], line 1\u001b[0m\n\u001b[1;32m----> 1\u001b[0m \u001b[38;5;28;01mfrom\u001b[39;00m \u001b[38;5;21;01mBio\u001b[39;00m\u001b[38;5;21;01m.\u001b[39;00m\u001b[38;5;21;01mSeqUtils\u001b[39;00m \u001b[38;5;28;01mimport\u001b[39;00m GC_fraction\n",
      "\u001b[1;31mImportError\u001b[0m: cannot import name 'GC_fraction' from 'Bio.SeqUtils' (c:\\Anaconda3\\envs\\computational_biology\\Lib\\site-packages\\Bio\\SeqUtils\\__init__.py)"
     ]
    }
   ],
   "source": [
    "from Bio.SeqUtils import GC_fraction\n",
    "#rumus cari AT = 1-percentage GC"
   ]
  },
  {
   "cell_type": "markdown",
   "metadata": {},
   "source": [
    "<h1> Mencari percentage dengan function buatan sendiri </h1>"
   ]
  },
  {
   "cell_type": "markdown",
   "metadata": {},
   "source": [
    "Method 1 : lebih panjang"
   ]
  },
  {
   "cell_type": "code",
   "execution_count": null,
   "metadata": {},
   "outputs": [],
   "source": [
    "def gc_counter(Seq): #mengecek satu-satu\n",
    "    gc = []\n",
    "    for i in Seq:\n",
    "        if i ==\"G\" or i == \"C\":\n",
    "            gc.append(i)\n",
    "    return len(gc)/len(Seq)*100\n",
    "\n",
    "def at_counter(Seq): #mengecek satu-satu\n",
    "    at = []\n",
    "    for i in Seq:\n",
    "        if i ==\"A\" or i == \"T\":\n",
    "            at.append(i)\n",
    "    return len(at)/len(Seq)*100"
   ]
  },
  {
   "cell_type": "code",
   "execution_count": 54,
   "metadata": {},
   "outputs": [
    {
     "name": "stdout",
     "output_type": "stream",
     "text": [
      "62.5\n",
      "37.5\n"
     ]
    }
   ],
   "source": [
    "print(gc_counter(DNA))\n",
    "#percentage_gc - gc_counter(DNA)\n",
    "#bisa langsung digitung \n",
    "#bisa \n",
    "print(at_counter(DNA))"
   ]
  },
  {
   "cell_type": "markdown",
   "metadata": {},
   "source": [
    " Method 2 : Lebih pendek "
   ]
  },
  {
   "cell_type": "code",
   "execution_count": 55,
   "metadata": {},
   "outputs": [],
   "source": [
    "def gc_counter(seq):\n",
    "    gc = [i for i in seq if i in \"GC\"]\n",
    "    return len(gc)/len(seq)*100\n",
    "\n",
    "def at_counter_counter(seq):\n",
    "    at = [i for i in seq if i in \"AT\"]\n",
    "    return len(at)/len(seq)*100"
   ]
  },
  {
   "cell_type": "markdown",
   "metadata": {},
   "source": [
    "memvisualisasikan hasil dari percentagenya"
   ]
  },
  {
   "cell_type": "code",
   "execution_count": 56,
   "metadata": {},
   "outputs": [],
   "source": [
    "#matplotlib untuk membuat percentage diagram\n",
    "import matplotlib.pyplot as plt"
   ]
  },
  {
   "cell_type": "code",
   "execution_count": 59,
   "metadata": {},
   "outputs": [
    {
     "data": {
      "image/png": "[encoded data removed]",
      "text/plain": [
       "<Figure size 640x480 with 1 Axes>"
      ]
     },
     "metadata": {},
     "output_type": "display_data"
    }
   ],
   "source": [
    "percentage_gc = gc_counter(DNA)\n",
    "percentage_at = at_counter(DNA)\n",
    "\n",
    "plt.pie(x =[percentage_gc, percentage_at], labels=[str(percentage_gc) + '%', str(percentage_at) + '%'])\n",
    "plt.legend([\"GC\", \"AT\"])\n",
    "plt.show()"
   ]
  },
  {
   "cell_type": "markdown",
   "metadata": {},
   "source": [
    "Mencari Melting Point dari suatu DNA"
   ]
  },
  {
   "cell_type": "code",
   "execution_count": 60,
   "metadata": {},
   "outputs": [],
   "source": [
    "from Bio.SeqUtils import MeltingTemp as mt "
   ]
  },
  {
   "cell_type": "code",
   "execution_count": 62,
   "metadata": {},
   "outputs": [
    {
     "name": "stdout",
     "output_type": "stream",
     "text": [
      "47.77989226541517\n",
      "54.61931336297471\n",
      "52.0\n"
     ]
    }
   ],
   "source": [
    "print(mt.Tm_GC(DNA)) #mencari melting point berdasarkan komposisi GC\n",
    "print(mt.Tm_NN(DNA)) #mencari pasangan basa terdekat menurut termod\n",
    "print(mt.Tm_Wallace(DNA))"
   ]
  },
  {
   "cell_type": "markdown",
   "metadata": {},
   "source": [
    "mencari Tm_Wallance secara manual "
   ]
  },
  {
   "cell_type": "code",
   "execution_count": 66,
   "metadata": {},
   "outputs": [],
   "source": [
    "def Tm_Wallance_func(seq):\n",
    "    jumlahA = seq.count(\"A\")\n",
    "    jumlahT = seq.count(\"T\")\n",
    "    jumlahG = seq.count(\"G\")\n",
    "    jumlahC = seq.count(\"C\")\n",
    "    \n",
    "    #ada 2 rumus lebih dari 14 atau kurang dari 14\n",
    "    if (len(seq) < 14):\n",
    "        return (jumlahA + jumlahT) * 2 + (jumlahC + jumlahG) * 4\n",
    "    else :\n",
    "        return round (64.9 + 41 * (jumlahG + jumlahC - 16.4) / len(seq), 2)"
   ]
  },
  {
   "cell_type": "markdown",
   "metadata": {},
   "source": [
    "mencari molecular weight"
   ]
  },
  {
   "cell_type": "code",
   "execution_count": 67,
   "metadata": {},
   "outputs": [],
   "source": [
    "from Bio.SeqUtils import molecular_weight as mw"
   ]
  },
  {
   "cell_type": "code",
   "execution_count": 69,
   "metadata": {},
   "outputs": [
    {
     "name": "stdout",
     "output_type": "stream",
     "text": [
      "5002.177\n"
     ]
    }
   ],
   "source": [
    "print(mw(DNA))"
   ]
  },
  {
   "cell_type": "markdown",
   "metadata": {},
   "source": [
    "mencari molecular weight per komposisi\n",
    "\n",
    "reminder : jangan lupa bikin argumennya sequence, nucleotide"
   ]
  },
  {
   "cell_type": "code",
   "execution_count": 74,
   "metadata": {},
   "outputs": [],
   "source": [
    "def mw_per_komposisi(seq, nucleotide):\n",
    "    n = [x for x in seq if x in nucleotide]\n",
    "    n_string = \"\".join(n)\n",
    "    return n_string "
   ]
  },
  {
   "cell_type": "code",
   "execution_count": 75,
   "metadata": {},
   "outputs": [
    {
     "name": "stdout",
     "output_type": "stream",
     "text": [
      "1993.2507000000003\n",
      "930.5949\n",
      "957.6347999999998\n",
      "1174.7424999999998\n"
     ]
    }
   ],
   "source": [
    "print(mw(mw_per_komposisi(DNA, \"G\"), \"DNA\"))\n",
    "print(mw(mw_per_komposisi(DNA, \"T\"), \"DNA\"))\n",
    "print(mw(mw_per_komposisi(DNA, \"A\"), \"DNA\"))\n",
    "print(mw(mw_per_komposisi(DNA, \"C\"), \"DNA\"))"
   ]
  }
 ],
 "metadata": {
  "kernelspec": {
   "display_name": "computational_biology",
   "language": "python",
   "name": "python3"
  },
  "language_info": {
   "codemirror_mode": {
    "name": "ipython",
    "version": 3
   },
   "file_extension": ".py",
   "mimetype": "text/x-python",
   "name": "python",
   "nbconvert_exporter": "python",
   "pygments_lexer": "ipython3",
   "version": "3.12.4"
  }
 },
 "nbformat": 4,
 "nbformat_minor": 2
}
