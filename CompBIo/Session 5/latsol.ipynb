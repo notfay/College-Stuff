{
 "cells": [
  {
   "cell_type": "code",
   "execution_count": null,
   "id": "02c3c6b8",
   "metadata": {},
   "outputs": [],
   "source": [
    "from Bio import SeqIO, pairwise2\n",
    "from Bio.Seq import Seq\n",
    "from Bio.pairwise2 import format_alignment\n",
    "from Bio.SeqUtils import gc_fraction, molecular_weight, GC\n",
    "from Bio.SeqUtils import MeltingTemp as mt\n",
    "\n",
    "import matplotlib.pyplot as plt\n",
    "import numpy as np\n",
    "import Levenshtein"
   ]
  },
  {
   "cell_type": "code",
   "execution_count": null,
   "id": "023a756e",
   "metadata": {},
   "outputs": [],
   "source": [
    "# ---------- 1. Sequence Manipulation ----------\n",
    "\n",
    "# Read the sequences from FASTA files\n",
    "seq_x_record = SeqIO.read('./x.fasta', 'fasta')\n",
    "seq_y_record = SeqIO.read('./y.fasta', 'fasta')\n",
    "\n",
    "# Get sequences and convert to string\n",
    "seq_x_str = str(seq_x_record.seq)\n",
    "seq_y_str = str(seq_y_record.seq)\n",
    "\n",
    "# Clean sequences by removing ambiguous bases (any character that's not A, T, G, or C)\n",
    "def clean_sequence(sequence):\n",
    "    return ''.join(base for base in sequence if base in 'ATGCatgc')\n",
    "\n",
    "seq_x = clean_sequence(seq_x_str)\n",
    "seq_y = clean_sequence(seq_y_str)\n",
    "\n",
    "# Convert to Biopython Seq objects\n",
    "seq_x_bio = Seq(seq_x)\n",
    "seq_y_bio = Seq(seq_y)\n",
    "\n",
    "print(f\"Original X length: {len(seq_x_str)}, Cleaned X length: {len(seq_x)}\")\n",
    "print(f\"Original Y length: {len(seq_y_str)}, Cleaned Y length: {len(seq_y)}\")"
   ]
  },
  {
   "cell_type": "code",
   "execution_count": null,
   "id": "80fc4bfe",
   "metadata": {},
   "outputs": [],
   "source": [
    "# Display which index the first time the codon (CGC) appears in Sequence X and Y\n",
    "codon = \"CGC\"\n",
    "x_index = seq_x.find(codon)\n",
    "y_index = seq_y.find(codon)\n",
    "\n",
    "print(f\"First occurrence of codon {codon} in Sequence X: index {x_index}\")\n",
    "print(f\"First occurrence of codon {codon} in Sequence Y: index {y_index}\")\n",
    "\n",
    "# Create a new sequence as specified\n",
    "x_first_10 = seq_x[:10]\n",
    "x_last_5 = seq_x[-5:]\n",
    "y_first_20 = seq_y[:20]\n",
    "y_last_3 = seq_y[-3:]\n",
    "\n",
    "\n",
    "# Combine and reverse to create Sequence Z\n",
    "combined = x_first_10 + x_last_5 + y_first_20 + y_last_3\n",
    "seq_z = combined[::-1]  # Reversing the combined sequence\n",
    "seq_z_bio = Seq(seq_z)\n",
    "\n",
    "print(f\"Sequence Z: {seq_z}\")\n",
    "print(f\"Length of Sequence Z: {len(seq_z)}\")"
   ]
  },
  {
   "cell_type": "code",
   "execution_count": null,
   "id": "c1e36557",
   "metadata": {},
   "outputs": [],
   "source": [
    "# ---------- 2. Sequence Analysis & Plotting ----------\n",
    "\n",
    "seq_c = seq_z  # Sequence C is Sequence Z\n",
    "\n",
    "# Base frequency\n",
    "a_count = seq_c.count(\"A\")\n",
    "c_count = seq_c.count(\"C\")\n",
    "\n",
    "print(f\"Frequency of A in Sequence C: {a_count}\")\n",
    "print(f\"Frequency of C in Sequence C: {c_count}\")\n",
    "\n",
    "plt.bar(['A', 'C'], [a_count, c_count])\n",
    "plt.title('Frequency of A and C in Sequence C')\n",
    "plt.ylabel('Count')\n",
    "plt.show()"
   ]
  },
  {
   "cell_type": "code",
   "execution_count": null,
   "id": "754140e1",
   "metadata": {},
   "outputs": [],
   "source": [
    "# GC and AT content\n",
    "gc_content = GC(seq_c)  # Using GC function instead of gc_fraction\n",
    "at_content = 100 - gc_content\n",
    "\n",
    "print(f\"GC content: {gc_content:.2f}%\")\n",
    "print(f\"AT content: {at_content:.2f}%\")\n",
    "\n",
    "print(f\"\\nGC content percentage for Sequence Z: {gc_content:.2f}%\")\n",
    "print(f\"AT content percentage for Sequence Z: {at_content:.2f}%\")"
   ]
  },
  {
   "cell_type": "code",
   "execution_count": null,
   "id": "6e22452c",
   "metadata": {},
   "outputs": [],
   "source": [
    "# Wallace rule: 2*(A+T) + 4*(G+C)\n",
    "at = seq_c.count('A') + seq_c.count('T')\n",
    "gc = seq_c.count('G') + seq_c.count('C')\n",
    "\n",
    "melting_temp = 2 * at + 4 * gc\n",
    "nn_tm = mt.Tm_NN(seq_c)\n",
    "\n",
    "print(f\"Melting temperature (Wallace rule): {melting_temp} °C\")"
   ]
  },
  {
   "cell_type": "code",
   "execution_count": null,
   "id": "4af4e01a",
   "metadata": {},
   "outputs": [],
   "source": [
    "# Molecular weight\n",
    "mw = molecular_weight(seq_c, seq_type=\"DNA\")\n",
    "print(f\"Molecular Weight: {mw:.2f} Da\\n\")"
   ]
  },
  {
   "cell_type": "code",
   "execution_count": null,
   "id": "26d02b41",
   "metadata": {},
   "outputs": [],
   "source": [
    "# ---------- 3. Transcription and Translation ----------\n",
    "\n",
    "seq_c_dna = Seq(seq_c)\n",
    "\n",
    "mRNA = seq_c_dna.transcribe()\n",
    "protein = seq_c_dna.translate()\n",
    "\n",
    "print(f\"\\nmRNA sequence from Sequence Z: {mRNA}\")\n",
    "print(f\"Amino acid sequence from Sequence Z: {protein}\")"
   ]
  },
  {
   "cell_type": "code",
   "execution_count": null,
   "id": "f8002506",
   "metadata": {},
   "outputs": [],
   "source": [
    "# ---------- 4. Alignment & Similarities ----------\n",
    "\n",
    "seq_a = seq_x\n",
    "seq_b = seq_y\n",
    "seq_c = seq_z\n",
    "\n",
    "# Local alignment A vs B, localms untuk custom habis seq_b, match, mismatch, gap start, gap stop\n",
    "\n",
    "local_alignments = pairwise2.align.localxx(seq_a, seq_b)\n",
    "local_score = local_alignments[0].score if local_alignments else 0\n",
    "\n",
    "print(f\"Local alignment score (A vs B): {local_score}\")"
   ]
  },
  {
   "cell_type": "code",
   "execution_count": null,
   "id": "462c368c",
   "metadata": {},
   "outputs": [],
   "source": [
    "# Global alignment B vs C\n",
    "\n",
    "global_alignments = pairwise2.align.globalxx(seq_b, seq_c)\n",
    "global_score = global_alignments[0].score if global_alignments else 0\n",
    "\n",
    "print(f\"Global alignment score (B vs C): {global_score}\")"
   ]
  },
  {
   "cell_type": "code",
   "execution_count": null,
   "id": "98c146d4",
   "metadata": {},
   "outputs": [],
   "source": [
    "#Hamming Distance\n",
    "\n",
    "if len(seq_a) == len(seq_b):\n",
    "    hamming_distance = sum(a != b for a, b in zip(seq_a, seq_b))\n",
    "else:\n",
    "    hamming_distance = \"Not available (different lengths)\"\n",
    "print(f\"Hamming Distance (A vs B): {hamming_distance}\")\n",
    "\n",
    "# Levenshtein Distance\n",
    "lev_distance = Levenshtein.distance(seq_a, seq_b)\n",
    "print(f\"Levenshtein Distance (A vs B): {lev_distance}\")"
   ]
  }
 ],
 "metadata": {
  "kernelspec": {
   "display_name": "base",
   "language": "python",
   "name": "python3"
  },
  "language_info": {
   "name": "python",
   "version": "3.12.4"
  }
 },
 "nbformat": 4,
 "nbformat_minor": 5
}
